{
 "cells": [
  {
   "cell_type": "code",
   "execution_count": 7,
   "metadata": {},
   "outputs": [
    {
     "name": "stdout",
     "output_type": "stream",
     "text": [
      "Twinkle, twinkle, little star,\n",
      "      How I wonder what you are\n",
      "            Up above the world so high,\n",
      "            Like a diamond in the sky.\n",
      "Twinkle, twinkle, little star,\n",
      "      How I wonder what you are\n"
     ]
    }
   ],
   "source": [
    "\"\"\"\"Write a Python program to print the following string in a specific format\n",
    "(see the output).\"\"\"\n",
    "print(\"Twinkle, twinkle, little star,\")\n",
    "print(\"      How I wonder what you are\")\n",
    "print(\"            Up above the world so high,\")\n",
    "print(\"            Like a diamond in the sky.\")\n",
    "print(\"Twinkle, twinkle, little star,\")\n",
    "print(\"      How I wonder what you are\")"
   ]
  },
  {
   "cell_type": "code",
   "execution_count": 10,
   "metadata": {},
   "outputs": [
    {
     "name": "stdout",
     "output_type": "stream",
     "text": [
      "3.7.3 (default, Mar 27 2019, 22:11:17) \n",
      "[GCC 7.3.0]\n"
     ]
    }
   ],
   "source": [
    "\"\"\"2. Write a Python program to get the Python version you are using\"\"\"\n",
    "import sys\n",
    "print (sys.version)"
   ]
  },
  {
   "cell_type": "code",
   "execution_count": 12,
   "metadata": {},
   "outputs": [
    {
     "name": "stdout",
     "output_type": "stream",
     "text": [
      "Current date and time : \n",
      "2019-11-27 12:16:20\n"
     ]
    }
   ],
   "source": [
    "\"\"\"3. Write a Python program to display the current date and time\"\"\"\n",
    "import datetime\n",
    "now = datetime.datetime.now()\n",
    "print (\"Current date and time : \")\n",
    "print (now.strftime(\"%Y-%m-%d %H:%M:%S\"))"
   ]
  },
  {
   "cell_type": "code",
   "execution_count": 13,
   "metadata": {},
   "outputs": [
    {
     "name": "stdout",
     "output_type": "stream",
     "text": [
      "Input the radius of the circle : 23\n",
      "The area of the circle with radius 23.0 is: 1661.9025137490005\n"
     ]
    }
   ],
   "source": [
    "\"\"\"4. Write a Python program which accepts the radius of a circle from the user\n",
    "and compute the area.\"\"\"\n",
    "from math import pi\n",
    "r = float(input (\"Input the radius of the circle : \"))\n",
    "print (\"The area of the circle with radius \" + str(r) + \" is: \" + str(pi * r**2))"
   ]
  },
  {
   "cell_type": "code",
   "execution_count": 19,
   "metadata": {},
   "outputs": [
    {
     "name": "stdout",
     "output_type": "stream",
     "text": [
      "Input your First Name : qaim\n",
      "Input your Last Name : hasan\n",
      "Hello  hasan qaim\n"
     ]
    }
   ],
   "source": [
    "\"\"\"5. Write a Python program which accepts the user's first and last name and\n",
    "print them in reverse order with a space between them.\"\"\"\n",
    "fname = input(\"Input your First Name : \")\n",
    "lname = input(\"Input your Last Name : \")\n",
    "print (\"Hello  \" + lname + \" \" + fname)"
   ]
  },
  {
   "cell_type": "code",
   "execution_count": 18,
   "metadata": {},
   "outputs": [
    {
     "name": "stdout",
     "output_type": "stream",
     "text": [
      "Input Number: 23\n",
      "Input Number: 23\n",
      "The value of x & y are:  46\n"
     ]
    }
   ],
   "source": [
    "\"\"\"6. Write a python program which takes two inputs from user and print them\n",
    "addition\"\"\"\n",
    "y = int(input(\"Input Number(x): \"))\n",
    "x = int(input(\"Input Number(y): \"))\n",
    "print(\"The value of x & y are: \",x+y)"
   ]
  },
  {
   "cell_type": "code",
   "execution_count": null,
   "metadata": {},
   "outputs": [],
   "source": []
  },
  {
   "cell_type": "code",
   "execution_count": null,
   "metadata": {},
   "outputs": [],
   "source": []
  }
 ],
 "metadata": {
  "kernelspec": {
   "display_name": "Python 3",
   "language": "python",
   "name": "python3"
  },
  "language_info": {
   "codemirror_mode": {
    "name": "ipython",
    "version": 3
   },
   "file_extension": ".py",
   "mimetype": "text/x-python",
   "name": "python",
   "nbconvert_exporter": "python",
   "pygments_lexer": "ipython3",
   "version": "3.7.3"
  }
 },
 "nbformat": 4,
 "nbformat_minor": 2
}
