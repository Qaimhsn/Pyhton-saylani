{
 "cells": [
  {
   "cell_type": "code",
   "execution_count": 4,
   "metadata": {},
   "outputs": [
    {
     "name": "stdout",
     "output_type": "stream",
     "text": [
      "Input a number to compute the factiorial : 4\n",
      "24\n"
     ]
    }
   ],
   "source": [
    "\"\"\"Write a Python function to calculate the factorial of a number (a non-negative\n",
    "integer). The function accepts the number as an argument.\"\"\"\n",
    "def factorial(n):\n",
    "    if n == 0:\n",
    "        return 1\n",
    "    else:\n",
    "        return n * factorial(n-1)\n",
    "n=int(input(\"Input a number to compute the factiorial : \"))\n",
    "if(n<0):\n",
    "    print(\"Enter Number Greater than 0\")\n",
    "else:\n",
    "    print(factorial(n))"
   ]
  },
  {
   "cell_type": "code",
   "execution_count": 6,
   "metadata": {},
   "outputs": [
    {
     "name": "stdout",
     "output_type": "stream",
     "text": [
      "Original String :  The Quick Brown Fox\n",
      "No. of Upper case characters :  4\n",
      "No. of Lower case Characters :  12\n"
     ]
    }
   ],
   "source": [
    "\"\"\"Write a Python function that accepts a string and calculate the number of upper\n",
    "case letters and lower case letters.\"\"\"\n",
    "def string_test(s):\n",
    "    d={\"UPPER_CASE\":0, \"LOWER_CASE\":0}\n",
    "    for c in s:\n",
    "        if c.isupper():\n",
    "           d[\"UPPER_CASE\"]+=1\n",
    "        elif c.islower():\n",
    "           d[\"LOWER_CASE\"]+=1\n",
    "        else:\n",
    "           pass\n",
    "    print (\"Original String : \", s)\n",
    "    print (\"No. of Upper case characters : \", d[\"UPPER_CASE\"])\n",
    "    print (\"No. of Lower case Characters : \", d[\"LOWER_CASE\"])\n",
    "\n",
    "string_test('The Quick Brown Fox')"
   ]
  },
  {
   "cell_type": "code",
   "execution_count": 7,
   "metadata": {},
   "outputs": [
    {
     "name": "stdout",
     "output_type": "stream",
     "text": [
      "10 4 66 "
     ]
    }
   ],
   "source": [
    "\"\"\"Write a Python function to print the even numbers from a given list.\"\"\"\n",
    "list1 = [10, 21, 4, 45, 66, 93]  \n",
    "for num in list1:\n",
    "    if num % 2 == 0: \n",
    "        print(num, end = \" \") "
   ]
  },
  {
   "cell_type": "code",
   "execution_count": 14,
   "metadata": {},
   "outputs": [
    {
     "name": "stdout",
     "output_type": "stream",
     "text": [
      "Input your Palindrome : madam\n",
      "Yes\n"
     ]
    }
   ],
   "source": [
    "\"\"\"Write a Python function that checks whether a passed string is palindrome or not.\n",
    "Note: A palindrome is a word, phrase, or sequence that reads the same\n",
    "backward as forward, e.g., madam\"\"\"\n",
    "def reverse(s): \n",
    "    return s[::-1]   \n",
    "def isPalindrome(s):  \n",
    "    rev = reverse(s) \n",
    "    if (s == rev): \n",
    "        return True\n",
    "    return False\n",
    "s = input(\"Input your Palindrome : \")\n",
    "ans = isPalindrome(s)   \n",
    "if ans == 1: \n",
    "    print(\"Yes\") \n",
    "else: \n",
    "    print(\"No\")"
   ]
  },
  {
   "cell_type": "code",
   "execution_count": 13,
   "metadata": {},
   "outputs": [
    {
     "name": "stdout",
     "output_type": "stream",
     "text": [
      "Input a number to compute the factiorial : 7\n",
      "7 is a prime number\n"
     ]
    }
   ],
   "source": [
    "\"\"\"Write a Python function that takes a number as a parameter and check the\n",
    "number is prime or not.\"\"\"\n",
    "num =int(input(\"Input a number to compute the factiorial : \"))\n",
    "if num > 1:   \n",
    "   for i in range(2, num//2):   \n",
    "       if (num % i) == 0: \n",
    "           print(num, \"is not a prime number\") \n",
    "           break\n",
    "   else: \n",
    "       print(num, \"is a prime number\")   \n",
    "else: \n",
    "   print(num, \"is not a prime number\") "
   ]
  },
  {
   "cell_type": "code",
   "execution_count": null,
   "metadata": {},
   "outputs": [],
   "source": [
    "while True: \n",
    "    try: \n",
    "        bg = float(input(\"Enter your budget : \")) \n",
    "        s = bg \n",
    "    except ValueError: \n",
    "        print(\"PRINT NUMBER AS A AMOUNT\")\n",
    "        continue\n",
    "    else: \n",
    "        break\n",
    "\n",
    "a ={\"name\":[], \"quant\":[], \"price\":[]} \n",
    "b = list(a.values()) \n",
    "na = b[0] \n",
    "qu = b[1] \n",
    "pr = b[2] \n",
    "\n",
    "while True: \n",
    "    try: \n",
    "        ch = int(input(\"1.ADD\\n2.EXIT\\nEnter your choice : \")) \n",
    "    except ValueError: \n",
    "        print(\"\\nERROR: Choose only digits from the given option\") \n",
    "        continue\n",
    "    else: \n",
    "        if ch == 1 and s>0: \n",
    "            pn = input(\"Enter product name : \") \n",
    "            q = input(\"Enter quantity : \") \n",
    "            p = float(input(\"Enter price of the product : \")) \n",
    "            if p>s: \n",
    "                print(\"\\nCAN, T BUT THE PRODUCT\") \n",
    "                continue\n",
    "            else: \n",
    "                if pn in na: \n",
    "                    ind = na.index(pn) \n",
    "                    qu.remove(qu[ind]\n",
    "                    pr.remove(pr[ind]) \n",
    "                    qu.insert(ind, q)\n",
    "                    pr.insert(ind, p) \n",
    "                    s = bg-sum(pr) \n",
    "                    print(\"\\namount left\", s) \n",
    "                else: \n",
    "                    na.append(pn) \n",
    "                    qu.append(q) \n",
    "                    pr.append(p)\n",
    "                    s = bg-sum(pr) \n",
    "                    print(\"\\namount left\", s) \n",
    "        elif s<= 0: \n",
    "            print(\"\\nNO BUDGET\") \n",
    "        else: \n",
    "            break\n",
    "\n",
    "print(\"\\nAmount left : Rs.\", s) \n",
    "\n",
    "if s in pr:\n",
    "    print(\"\\nAmount left can buy you a\", na[pr.index(s)]) \n",
    "\n",
    "print(\"\\n\\n\\nGROCERY LIST\") \n",
    "for i in range(len(na)): \n",
    "    print(na[i], qu[i], pr[i]) \n"
   ]
  }
 ],
 "metadata": {
  "kernelspec": {
   "display_name": "Python 3",
   "language": "python",
   "name": "python3"
  },
  "language_info": {
   "codemirror_mode": {
    "name": "ipython",
    "version": 3
   },
   "file_extension": ".py",
   "mimetype": "text/x-python",
   "name": "python",
   "nbconvert_exporter": "python",
   "pygments_lexer": "ipython3",
   "version": "3.7.3"
  }
 },
 "nbformat": 4,
 "nbformat_minor": 2
}
